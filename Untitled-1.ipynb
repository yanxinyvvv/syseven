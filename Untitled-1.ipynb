{
 "cells": [
  {
   "cell_type": "code",
   "execution_count": 12,
   "metadata": {},
   "outputs": [
    {
     "name": "stdout",
     "output_type": "stream",
     "text": [
      "Our reataurant's name is Yxycanguan .\n",
      "Our restaurant's type is CHICKEN .\n",
      "We are opening now!\n"
     ]
    }
   ],
   "source": [
    "class Restaurant():\n",
    "    def __init__(self,restaurant_name,cuisine_type):\n",
    "        self.restaurant_name = restaurant_name\n",
    "        self.cuisine_type = cuisine_type\n",
    "    def describe_reataurant(self):\n",
    "        print(\"Our reataurant's name is \"+ self.restaurant_name.title() +  ' .')\n",
    "        print(\"Our restaurant's type is \"+ self.cuisine_type.upper() + ' .')\n",
    "    def open_restaurant(self):\n",
    "        print(\"We are opening now!\")\n",
    "restaurant = Restaurant('yxycanguan','chicken')\n",
    "restaurant.describe_reataurant()\n",
    "restaurant.open_restaurant()"
   ]
  },
  {
   "cell_type": "code",
   "execution_count": 14,
   "metadata": {},
   "outputs": [
    {
     "name": "stdout",
     "output_type": "stream",
     "text": [
      "Our reataurant's name is Yxycanguan .\n",
      "Our restaurant's type is CHICKEN .\n",
      "Our reataurant's name is Liyuancanguan .\n",
      "Our restaurant's type is RICE .\n",
      "Our reataurant's name is Qingcanguan .\n",
      "Our restaurant's type is NOODLE .\n"
     ]
    }
   ],
   "source": [
    "class Restaurant():\n",
    "    def __init__(self,restaurant_name,cuisine_type):\n",
    "        self.restaurant_name = restaurant_name\n",
    "        self.cuisine_type = cuisine_type\n",
    "    def describe_reataurant(self):\n",
    "        print(\"Our reataurant's name is \"+ self.restaurant_name.title() +  ' .')\n",
    "        print(\"Our restaurant's type is \"+ self.cuisine_type.upper() + ' .')\n",
    "    def open_restaurant(self):\n",
    "        print(\"We are opening now! Welcome~\")\n",
    "restaurant_a = Restaurant('yxycanguan','chicken')\n",
    "restaurant_a.describe_reataurant()\n",
    "restaurant_b = Restaurant('liyuancanguan','rice')\n",
    "restaurant_b.describe_reataurant()\n",
    "restaurant_c = Restaurant('qingcanguan','noodle')\n",
    "restaurant_c.describe_reataurant()"
   ]
  },
  {
   "cell_type": "code",
   "execution_count": 16,
   "metadata": {},
   "outputs": [
    {
     "name": "stdout",
     "output_type": "stream",
     "text": [
      "A have a\n",
      "The number of diners is 0\n",
      "The number of diners is 2\n",
      "The number of diners is 6\n"
     ]
    }
   ],
   "source": [
    "class Restaurant():\n",
    "    def __init__(self,restaurant_name,cuisine_type):\n",
    "        self.restaurant_name=restaurant_name\n",
    "        self.cuisine_type=cuisine_type\n",
    "        self.number_served=0\n",
    "    def describe_restaurant(self):\n",
    "        print(self.restaurant_name+\" have \"+self.cuisine_type)\n",
    "        print(\"The number of diners is \" + str(self.number_served))\n",
    "    def open_restaurant(self):\n",
    "        print(self.restaurant_name+\" is open\")\n",
    "    def set_number_served(self,number_served):\n",
    "        self.number_served=number_served\n",
    "        print(\"The number of diners is \" + str(self.number_served))\n",
    "    def increment_number_served(self,number):\n",
    "        self.number_served+=number\n",
    "        print(\"The number of diners is \" + str(self.number_served))\n",
    "myRestaurant1=Restaurant('A','a')\n",
    "myRestaurant1.describe_restaurant()\n",
    "myRestaurant1.set_number_served(2)\n",
    "myRestaurant1.increment_number_served(4)"
   ]
  },
  {
   "cell_type": "code",
   "execution_count": 19,
   "metadata": {},
   "outputs": [
    {
     "name": "stdout",
     "output_type": "stream",
     "text": [
      "Our reataurant's name is Yxycanguan .\n",
      "Our restaurant's type is CHICKEN .\n",
      "We are opening now!\n",
      "Here are 50 guests~\n",
      "Here are 60 guests~\n"
     ]
    }
   ],
   "source": [
    "class Restaurant():\n",
    "    def __init__(self,restaurant_name,cuisine_type):\n",
    "        self.restaurant_name = restaurant_name\n",
    "        self.cuisine_type = cuisine_type\n",
    "        self.number_served = 6\n",
    "    def describe_reataurant(self):\n",
    "        print(\"Our reataurant's name is \"+ self.restaurant_name.title() +  ' .')\n",
    "        print(\"Our restaurant's type is \"+ self.cuisine_type.upper() + ' .')\n",
    "    def open_restaurant(self):\n",
    "        print(\"We are opening now!\")\n",
    "    def set_number_served(self,numbers):\n",
    "        self.number_served = numbers\n",
    "    def increment_number_served(self,incre):\n",
    "        self.number_served += incre\n",
    "    def number_of_diners(self):\n",
    "        print(\"Here are \"+str(self.number_served)+\" guests~\")\n",
    "restaurant = Restaurant('yxycanguan','chicken')\n",
    "restaurant.describe_reataurant()\n",
    "restaurant.open_restaurant()\n",
    "restaurant.set_number_served(50)\n",
    "restaurant.number_of_diners()\n",
    "restaurant.increment_number_served(10)\n",
    "restaurant.number_of_diners()"
   ]
  },
  {
   "cell_type": "code",
   "execution_count": 21,
   "metadata": {},
   "outputs": [
    {
     "name": "stdout",
     "output_type": "stream",
     "text": [
      "first_name: Zhang\n",
      "last_name: San\n",
      "gender: Nan\n",
      "birthday: 1.1\n",
      "Dear zhang san Nice to meet you~\n",
      "1\n",
      "2\n",
      "3\n",
      "0\n"
     ]
    }
   ],
   "source": [
    "class User():\n",
    "    def __init__(self,first_name,last_name,gender,birthday):\n",
    "        self.first_name = first_name\n",
    "        self.last_name = last_name\n",
    "        self.gender = gender\n",
    "        self.birthday = birthday\n",
    "        self.login_attempts = 0\n",
    "    def describe_user(self):\n",
    "        print(\"first_name: \"+ self.first_name.title())\n",
    "        print(\"last_name: \"+ self.last_name.title())\n",
    "        print(\"gender: \"+ self.gender.title())\n",
    "        print(\"birthday: \"+ self.birthday.title())\n",
    "    def greet_user(self):\n",
    "        print(\"Dear \"+self.first_name+\" \"+self.last_name+\" Nice to meet you~\")\n",
    "    def increment_login_attempts(self):\n",
    "        self.login_attempts += 1\n",
    "        return self.login_attempts\n",
    "    def reset__login_attempts(self):\n",
    "        self.login_attempts = 0\n",
    "        return self.login_attempts \n",
    "user_a = User('zhang','san','nan','1.1')\n",
    "user_a.describe_user()\n",
    "user_a.greet_user()\n",
    "num = user_a.increment_login_attempts()\n",
    "print(num)\n",
    "num = user_a.increment_login_attempts()\n",
    "print(num)\n",
    "num = user_a.increment_login_attempts()\n",
    "print(num)\n",
    "num = user_a.reset__login_attempts()\n",
    "print(num)"
   ]
  },
  {
   "cell_type": "code",
   "execution_count": 23,
   "metadata": {},
   "outputs": [
    {
     "name": "stdout",
     "output_type": "stream",
     "text": [
      "We have the following flavors:\n",
      "-apple\n",
      "-orange\n",
      "-strawberry\n"
     ]
    }
   ],
   "source": [
    "class Restaurant():\n",
    "    def __init__(self,restaurant_name,cuisine_type):\n",
    "        self.restaurant_name = restaurant_name\n",
    "        self.cuisine_type = cuisine_type\n",
    "    def describe_reataurant(self):\n",
    "        print(\"Our reataurant's name is \"+ self.restaurant_name.title() +  ' .')\n",
    "        print(\"Our restaurant's type is \"+ self.cuisine_type.upper() + ' .')\n",
    "    def open_restaurant(self):\n",
    "        print(\"We are opening now!\")\n",
    "class IceCreamStand(Restaurant):\n",
    "    def __init__(self,restaurant_name,cuisine_type):\n",
    "        super().__init__(restaurant_name,cuisine_type)\n",
    "        self.flavors = []\n",
    "    def describe_flavor(self):\n",
    "        print(\"We have the following flavors:\")\n",
    "        for flavor in self.flavors:\n",
    "            print(\"-\"+flavor)\n",
    "my_ice_cream = IceCreamStand(\"Ice Cream Palace\",\"Ice Cream\")\n",
    "my_ice_cream.flavors = [\"apple\",\"orange\",\"strawberry\"]\n",
    "my_ice_cream.describe_flavor()"
   ]
  },
  {
   "cell_type": "code",
   "execution_count": 24,
   "metadata": {},
   "outputs": [
    {
     "name": "stdout",
     "output_type": "stream",
     "text": [
      "An admin can:\n",
      "-can add post\n",
      "-can delete post\n",
      "-can ban user\n"
     ]
    }
   ],
   "source": [
    "class User():\n",
    "    def __init__(self,first_name,last_name,gender,birthday):\n",
    "        self.first_name = first_name\n",
    "        self.last_name = last_name\n",
    "        self.gender = gender\n",
    "        self.birthday = birthday\n",
    "    def describe_user(self):\n",
    "        print(\"first_name: \"+ self.first_name.title())\n",
    "        print(\"last_name: \"+ self.last_name.title())\n",
    "        print(\"gender: \"+ self.gender.title())\n",
    "        print(\"birthday: \"+ self.birthday.title())\n",
    "    def greet_user(self):\n",
    "        print(\"Dear \"+self.first_name+\" \"+self.last_name+\" Nice to meet you~\")\n",
    "class Admin(User):\n",
    "    def __init__(self,first_name,last_name,gender,birthday):\n",
    "        super().__init__(first_name,last_name,gender,birthday)\n",
    "        self.privileges = []\n",
    "    def show_privileges(self):\n",
    "        print(\"An admin can:\")\n",
    "        for privilege in self.privileges:\n",
    "            print(\"-\"+privilege)\n",
    "admin = Admin('Jack','White','m','3.4')\n",
    "admin.privileges = ['can add post','can delete post','can ban user']\n",
    "admin.show_privileges()"
   ]
  },
  {
   "cell_type": "code",
   "execution_count": 29,
   "metadata": {},
   "outputs": [
    {
     "name": "stdout",
     "output_type": "stream",
     "text": [
      "your privileges:\n",
      "can add post\n",
      "can delete post\n",
      "can ban user\n"
     ]
    }
   ],
   "source": [
    "class Privileges():\n",
    "    def __init__(self,privileges=[\"can add post\",\"can delete post\",\"can ban user\"]):\n",
    "        self.privileges=privileges\n",
    "    def show_privileges(self):\n",
    "        print(\"your privileges:\")\n",
    "        for myprivileges in self.privileges:\n",
    "            print(myprivileges)\n",
    "class User():\n",
    "    def __init__(self,first_name,last_name):\n",
    "        self.first_name=first_name\n",
    "        self.last_name=last_name\n",
    "        self.login_attempt=0\n",
    "    def describe_user(self):\n",
    "        print(\"your name is \"+self.first_name+\" \"+self.last_name)\n",
    "    def greet_user(self):\n",
    "        print(\"hello \"+self.first_name+\" \"+self.last_name)\n",
    "    def increment_login_attempts(self):\n",
    "        self.login_attempt+=1\n",
    "    def reset_login_attempts(self):\n",
    "        self.login_attempt=0\n",
    "class Admin(User):\n",
    "    def __init__(self,first_name,last_name):\n",
    "        super().__init__(first_name,last_name)\n",
    "        self.privileges=Privileges()\n",
    "myAdmin=Admin(\"zhang\",\"san\")\n",
    "myAdmin.privileges.show_privileges()"
   ]
  },
  {
   "cell_type": "code",
   "execution_count": 32,
   "metadata": {},
   "outputs": [
    {
     "name": "stdout",
     "output_type": "stream",
     "text": [
      "This car can go approximately 100 miles on a full charge\n",
      "This car can go approximately 200 miles on a full charge\n"
     ]
    }
   ],
   "source": [
    "class Car():\n",
    "    def __init__(self,make,model,year):\n",
    "        self.make=make\n",
    "        self.model=model\n",
    "        self.year=year\n",
    "        self.odometer_reading=0\n",
    "    def get_descriptive_name(self):\n",
    "        long_name=str(self.year)+\" \"+str(self.make)+\" \"+str(self.model)\n",
    "        return  long_name.title()\n",
    "    def read_odometer(self):\n",
    "        print(\"the car has \"+str(self.odometer_reading)+\" miles on it\")\n",
    "    def update_odometer(self,mileage):\n",
    "        if mileage>=self.odometer_reading:\n",
    "            self.odometer_reading=mileage\n",
    "        else:\n",
    "            print(\"you can't roll back an odometer!\")\n",
    "    def increment_odometer(self,miles):\n",
    "        self.odometer_reading+=miles\n",
    "class Battery():\n",
    "    def __init__(self,battery_size=70):\n",
    "        self.battery_size=battery_size\n",
    "    def describe_battery(self):\n",
    "        print(\"This car has a \"+str(self.battery_size)+\" kMh battery\")\n",
    "    def get_range(self):\n",
    "        if self.battery_size==70:\n",
    "            range=100\n",
    "        elif self.battery_size==85:\n",
    "            range=200\n",
    "        message = \"This car can go approximately \"+str(range)\n",
    "        message += \" miles on a full charge\"\n",
    "        print(message)\n",
    "    def upgrade_battery(self):\n",
    "        if self.battery_size!=85:\n",
    "            self.battery_size=85\n",
    "class ElectricCar(Car):\n",
    "    def __init__(self,make,model,year):\n",
    "        super().__init__(make,model,year)\n",
    "        self.battery=Battery()\n",
    "my_tesla = ElectricCar(\"tesla\",\"model s'\",2016)\n",
    "my_tesla.battery.get_range()\n",
    "my_tesla.battery.upgrade_battery()\n",
    "my_tesla.battery.get_range()"
   ]
  }
 ],
 "metadata": {
  "kernelspec": {
   "display_name": "Python 3",
   "language": "python",
   "name": "python3"
  },
  "language_info": {
   "codemirror_mode": {
    "name": "ipython",
    "version": 3
   },
   "file_extension": ".py",
   "mimetype": "text/x-python",
   "name": "python",
   "nbconvert_exporter": "python",
   "pygments_lexer": "ipython3",
   "version": "3.11.6"
  }
 },
 "nbformat": 4,
 "nbformat_minor": 2
}
